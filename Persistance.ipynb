{
 "cells": [
  {
   "cell_type": "markdown",
   "metadata": {},
   "source": [
    "# 277777788888899: Persistance d'un nombre"
   ]
  },
  {
   "cell_type": "markdown",
   "metadata": {},
   "source": [
    "<img src = \"277777788888899.PNG\" width = \"400\">"
   ]
  },
  {
   "cell_type": "markdown",
   "metadata": {},
   "source": [
    "Le but de cet tutoriel est d'étudier la proprieté de **persistance** d'un nombre en **base 10**, le **277777788888899**."
   ]
  },
  {
   "cell_type": "markdown",
   "metadata": {},
   "source": [
    "La persistence d'un nombre est le nmbre de fois auquel on applique une operation à un entier avant d'atteindre un point fixé. On s'intéresse ici à la **persistence multiplicative**.\n",
    "\n",
    "Il s'agit de multiplier les chiffres de chaque nombre entre eux et de compter le nombre d'étape avant lequel le produit donne 0."
   ]
  },
  {
   "cell_type": "markdown",
   "metadata": {},
   "source": [
    "Prenons un exemple pour mieux comprendre. Ici **39**:\n",
    "\n",
    "**39**:\n",
    "\n",
    "* **Etape 1**: 3 * 9 = 27\n",
    "* **Etape 2**: 2 * 7 = 14\n",
    "* **Etape 3**: 1 * 4 = 4 ---> 1 seul chiffre et non égale à 0: Fin de l'algorithme"
   ]
  },
  {
   "cell_type": "markdown",
   "metadata": {},
   "source": [
    "**277777788888899** est un nombre connu dont le nombre d'étape intermédiaires est de 11 avant d'atteindre 0 (point fixé)."
   ]
  },
  {
   "cell_type": "markdown",
   "metadata": {},
   "source": [
    "Le script suivant nous permet de calculer ces étapes intermédiaires."
   ]
  },
  {
   "cell_type": "code",
   "execution_count": 72,
   "metadata": {},
   "outputs": [],
   "source": [
    "def per(n):\n",
    "    \"\"\"\n",
    "    Cette fonction à pour objet de multiplier les chiffres d'un nombre entre eux \n",
    "    et d'afficher le rang à partir duquel le produit devient nul.\n",
    "    \n",
    "    Entrée:\n",
    "        Le nombre \n",
    "         \n",
    "    Sortie:\n",
    "        Les differents produits des chiffres jusqu'à0\n",
    "    \n",
    "    \"\"\"\n",
    "    \n",
    "    #### Si la longueur du chiffre vaut 1 alors \n",
    "    if len(str(n))==1:\n",
    "        print(n) ### On affiche le chiffre\n",
    "        return \"Fin du jeu\" #### C'est la fin du jeu\n",
    "        \n",
    "    #### On définie une liste qui retourne chacun des élements du nombre données et le stocke dans une liste  \n",
    "    liste = [int(j) for j in str(n)] #### Ie par exemple 1,5,5,7,5...52 \n",
    "    len(liste)\n",
    "    \n",
    "    resultat = 1\n",
    "### Pour chaque élement de la liste, on multiplie les élements entre eux.\n",
    "    for idx, a in enumerate(liste):\n",
    "        resultat = resultat * a #### On multiplie l'élémeent de la liste par le précédent\n",
    "\n",
    "    #### On affiche les résultats:\n",
    "    print(resultat)\n",
    "        \n",
    "    ##### Par itération, on relance la même fonction\n",
    "    per(resultat)\n",
    "    \n",
    "#     if len(resultat)==1:\n",
    "#         break"
   ]
  },
  {
   "cell_type": "code",
   "execution_count": 73,
   "metadata": {},
   "outputs": [
    {
     "name": "stdout",
     "output_type": "stream",
     "text": [
      "648\n",
      "192\n",
      "18\n",
      "8\n",
      "8\n"
     ]
    }
   ],
   "source": [
    "per(9942)"
   ]
  },
  {
   "cell_type": "code",
   "execution_count": 74,
   "metadata": {},
   "outputs": [
    {
     "name": "stdout",
     "output_type": "stream",
     "text": [
      "4996238671872\n",
      "438939648\n",
      "4478976\n",
      "338688\n",
      "27648\n",
      "2688\n",
      "768\n",
      "336\n",
      "54\n",
      "20\n",
      "0\n",
      "0\n"
     ]
    }
   ],
   "source": [
    "per(277777788888899)"
   ]
  }
 ],
 "metadata": {
  "kernelspec": {
   "display_name": "Python 3",
   "language": "python",
   "name": "python3"
  },
  "language_info": {
   "codemirror_mode": {
    "name": "ipython",
    "version": 3
   },
   "file_extension": ".py",
   "mimetype": "text/x-python",
   "name": "python",
   "nbconvert_exporter": "python",
   "pygments_lexer": "ipython3",
   "version": "3.6.8"
  }
 },
 "nbformat": 4,
 "nbformat_minor": 2
}
